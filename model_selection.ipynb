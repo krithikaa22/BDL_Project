{
 "cells": [
  {
   "cell_type": "code",
   "execution_count": 29,
   "metadata": {},
   "outputs": [],
   "source": [
    "import mlflow\n",
    "from mlflow.tracking import MlflowClient\n",
    "\n",
    "from keras.models import load_model, save_model\n",
    "from tensorflow import keras"
   ]
  },
  {
   "cell_type": "code",
   "execution_count": 30,
   "metadata": {},
   "outputs": [],
   "source": [
    "client = MlflowClient(tracking_uri='http://localhost:8080') \n",
    "experiments = client.search_experiments()"
   ]
  },
  {
   "cell_type": "code",
   "execution_count": 31,
   "metadata": {},
   "outputs": [
    {
     "name": "stdout",
     "output_type": "stream",
     "text": [
      "Experiment ID: 206393130342104641\n",
      "Name: Logistic_Regression_Experiments\n",
      "Artifact Location: mlflow-artifacts:/206393130342104641\n",
      "Lifecycle Stage: active\n",
      "-------------------------------\n",
      "Experiment ID: 0\n",
      "Name: Default\n",
      "Artifact Location: mlflow-artifacts:/0\n",
      "Lifecycle Stage: active\n",
      "-------------------------------\n"
     ]
    }
   ],
   "source": [
    "for experiment in experiments:\n",
    "    print(\"Experiment ID:\", experiment.experiment_id)\n",
    "    print(\"Name:\", experiment.name)\n",
    "    print(\"Artifact Location:\", experiment.artifact_location)\n",
    "    print(\"Lifecycle Stage:\", experiment.lifecycle_stage)\n",
    "    print(\"-------------------------------\")"
   ]
  },
  {
   "cell_type": "code",
   "execution_count": 32,
   "metadata": {},
   "outputs": [],
   "source": [
    "experiment_id = '206393130342104641'\n",
    "\n",
    "runs = mlflow.search_runs(experiment_id)"
   ]
  },
  {
   "cell_type": "code",
   "execution_count": 33,
   "metadata": {},
   "outputs": [
    {
     "name": "stdout",
     "output_type": "stream",
     "text": [
      "Best Run ID: bbad828bc7dc443f88b269345008d111\n",
      "Best Accuracy: 0.5332\n"
     ]
    }
   ],
   "source": [
    "# Picking the model with the least validation loss\n",
    "\n",
    "best_acc = -1\n",
    "best_run_id = None\n",
    "\n",
    "for run in runs.iterrows():\n",
    "    acc = run[1]['metrics.accuracy']\n",
    "\n",
    "    if acc > best_acc:\n",
    "        best_acc = acc\n",
    "        best_run_id = run[1]['run_id']\n",
    "\n",
    "print(\"Best Run ID:\", best_run_id)\n",
    "print(\"Best Accuracy:\", best_acc)"
   ]
  },
  {
   "cell_type": "code",
   "execution_count": 34,
   "metadata": {},
   "outputs": [],
   "source": [
    "\n",
    "mlflow.set_tracking_uri(uri=\"http://localhost:8080\")\n"
   ]
  },
  {
   "cell_type": "code",
   "execution_count": 35,
   "metadata": {},
   "outputs": [
    {
     "data": {
      "application/vnd.jupyter.widget-view+json": {
       "model_id": "e31973d546b44ee4941119454458ecbf",
       "version_major": 2,
       "version_minor": 0
      },
      "text/plain": [
       "Downloading artifacts:   0%|          | 0/9 [00:00<?, ?it/s]"
      ]
     },
     "metadata": {},
     "output_type": "display_data"
    }
   ],
   "source": [
    "model = mlflow.sklearn.load_model(\"runs:/\" + best_run_id + \"/model\")"
   ]
  },
  {
   "cell_type": "code",
   "execution_count": 36,
   "metadata": {},
   "outputs": [],
   "source": [
    "save_path = './best_model'\n",
    "mlflow.sklearn.save_model(model,save_path)"
   ]
  }
 ],
 "metadata": {
  "kernelspec": {
   "display_name": "base",
   "language": "python",
   "name": "python3"
  },
  "language_info": {
   "codemirror_mode": {
    "name": "ipython",
    "version": 3
   },
   "file_extension": ".py",
   "mimetype": "text/x-python",
   "name": "python",
   "nbconvert_exporter": "python",
   "pygments_lexer": "ipython3",
   "version": "3.11.8"
  }
 },
 "nbformat": 4,
 "nbformat_minor": 2
}
